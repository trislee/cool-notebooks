{
 "cells": [
  {
   "cell_type": "code",
   "execution_count": null,
   "metadata": {},
   "outputs": [],
   "source": [
    "import numpy as np\n",
    "import matplotlib.pyplot as plt\n",
    "%matplotlib inline\n",
    "from mpl_toolkits.mplot3d import Axes3D"
   ]
  },
  {
   "cell_type": "code",
   "execution_count": null,
   "metadata": {},
   "outputs": [],
   "source": [
    "\"\"\"This mess of 13 functions is my inelegant implementation of the RK4 method. n corresponds to the first variable, o the second,\n",
    "and p the third. evolve3 calls all of those functions and evolves the system using the RK4 tableau.\n",
    "\"\"\"\n",
    "\n",
    "def n1(h, t, x, y, z, e, f, g):\n",
    "    return e( t, x, y, z )\n",
    "def n2(h, t, x, y, z, e, f, g):\n",
    "    return e( t + 0.5*h, x + 0.5*h*n1(h, t, x, y, z, e, f, g), y + 0.5*h*o1(h, t, x, y, z, e, f, g), z + 0.5*h*p1(h, t, x, y, z, e, f, g) )\n",
    "def n3(h, t, x, y, z, e, f, g):\n",
    "    return e( t + 0.5*h, x + 0.5*h*n2(h, t, x, y, z, e, f, g), y + 0.5*h*o2(h, t, x, y, z, e, f, g), z + 0.5*h*p2(h, t, x, y, z, e, f, g) )\n",
    "def n4(h, t, x, y, z, e, f, g):\n",
    "    return e( t + h, x + h*n3(h, t, x, y, z, e, f, g), y + h*o3(h, t, x, y, z, e, f, g), z+ h*p3(h, t, x, y, z, e, f, g) )\n",
    "\n",
    "def o1(h, t, x, y, z, e, f, g):\n",
    "    return f( t, x, y, z )\n",
    "def o2(h, t, x, y, z, e, f, g):\n",
    "    return f( t + 0.5*h, x + 0.5*h*n1(h, t, x, y, z, e, f, g), y + 0.5*h*o1(h, t, x, y, z, e, f, g), z + 0.5*h*p1(h, t, x, y, z, e, f, g) )\n",
    "def o3(h, t, x, y, z, e, f, g):\n",
    "    return f( t + 0.5*h, x + 0.5*h*n2(h, t, x, y, z, e, f, g), y + 0.5*h*o2(h, t, x, y, z, e, f, g), z + 0.5*h*p2(h, t, x, y, z, e, f, g) )\n",
    "def o4(h, t, x, y, z, e, f, g):\n",
    "    return f( t + h, x + h*n3(h, t, x, y, z, e, f, g), y + h*o3(h, t, x, y, z, e, f, g), z+ h*p3(h, t, x, y, z, e, f, g) )\n",
    "\n",
    "def p1(h, t, x, y, z, e, f, g):\n",
    "    return g( t, x, y, z )\n",
    "def p2(h, t, x, y, z, e, f, g):\n",
    "    return g( t + 0.5*h, x + 0.5*h*n1(h, t, x, y, z, e, f, g), y + 0.5*h*o1(h, t, x, y, z, e, f, g), z + 0.5*h*p1(h, t, x, y, z, e, f, g) )\n",
    "def p3(h, t, x, y, z, e, f, g):\n",
    "    return g( t + 0.5*h, x + 0.5*h*n2(h, t, x, y, z, e, f, g), y + 0.5*h*o2(h, t, x, y, z, e, f, g), z + 0.5*h*p2(h, t, x, y, z, e, f, g) )\n",
    "def p4(h, t, x, y, z, e, f, g):\n",
    "    return g( t + h, x + h*n3(h, t, x, y, z, e, f, g), y + h*o3(h, t, x, y, z, e, f, g), z+ h*p3(h, t, x, y, z, e, f, g) )\n",
    "\n",
    "def evolve3(h, t, x, y, z, e, f, g):\n",
    "    x1 = x+h/6*(n1(h,t,x,y,z,e,f,g)+2*n2(h,t,x,y,z,e,f,g)+2*n3(h,t,x,y,z,e,f,g)+n4(h,t,x,y,z,e,f,g))\n",
    "    y1 = y+h/6*(o1(h,t,x,y,z,e,f,g)+2*o2(h,t,x,y,z,e,f,g)+2*o3(h,t,x,y,z,e,f,g)+o4(h,t,x,y,z,e,f,g))\n",
    "    z1 = z+h/6*(p1(h,t,x,y,z,e,f,g)+2*p2(h,t,x,y,z,e,f,g)+2*p3(h,t,x,y,z,e,f,g)+p4(h,t,x,y,z,e,f,g))\n",
    "    t1 = t+h\n",
    "    return t1, x1, y1, z1"
   ]
  },
  {
   "cell_type": "code",
   "execution_count": null,
   "metadata": {},
   "outputs": [],
   "source": [
    "\"\"\"e, f, and g are the derivative equations for x, y, and z respectively, for the Lorenz system.\n",
    "\"\"\"\n",
    "\n",
    "def e(t, x, y, z, sigma = 10):\n",
    "    return sigma*(y-x)\n",
    "def f(t, x, y, z, rho = 28):\n",
    "    return x*(rho-z) - y\n",
    "def g(t, x, y, z, beta = 8/3):\n",
    "    return x*y-beta*z\n",
    "\n",
    "\"\"\"Integrates e, f, and g using the RK4 method specified in the cell above, and generates a plot of z vs x.\n",
    "\"\"\"\n",
    "\n",
    "steps = 10000\n",
    "tarr = np.zeros(steps)\n",
    "xarr = np.zeros(steps)\n",
    "yarr = np.zeros(steps)\n",
    "zarr = np.zeros(steps)\n",
    "xarr[0] = 1\n",
    "yarr[0] = 1\n",
    "zarr[0] = 1\n",
    "\n",
    "for i in range(1, steps):\n",
    "    ev = evolve3(0.01, tarr[i-1], xarr[i-1], yarr[i-1], zarr[i-1], e, f, g )\n",
    "    #print ev\n",
    "    tarr[i] = ev[0]\n",
    "    xarr[i] = ev[1]\n",
    "    yarr[i] = ev[2]\n",
    "    zarr[i] = ev[3]"
   ]
  },
  {
   "cell_type": "code",
   "execution_count": null,
   "metadata": {},
   "outputs": [],
   "source": [
    "\"\"\"Generates rotating images of the Lorenz curve with a small bead moving along one of the lines in a near closed loop.\n",
    "\"\"\"\n",
    "\n",
    "N_points = np.size(xarr)\n",
    "fig = plt.figure(figsize = (8, 8))\n",
    "ax = fig.gca(projection='3d')\n",
    "\n",
    "for i in range(1, N_points):\n",
    "    ax.plot(xarr[i-1:i+1], yarr[i-1:i+1], zarr[i-1:i+1], c=(0, tarr[i-1]/np.max(tarr), 1-tarr[i-1]/np.max(tarr)), linewidth = 0.5)\n",
    "    #print(i)\n",
    "plt.axis('off')\n",
    "start = 1577\n",
    "clip = 0.68\n",
    "line1=ax.scatter(xarr[start], yarr[start], zarr[start], color = 'r', marker = 'o', s = 10)\n",
    "for j in range(0,630+360):\n",
    "    ax.view_init(j*360/(630+360)-90, j*360/(630+360))\n",
    "    line1.remove()\n",
    "    line1 = ax.scatter(xarr[start+j], yarr[start+j], zarr[start+j], color = 'r', marker = 'o', s = 10)\n",
    "    plt.subplots_adjust(left=0.5-clip, right=0.5+clip, top=0.5+clip, bottom=0.5-clip)\n",
    "    plt.savefig('/home/tlee/Documents/jupyter/fun/lorenz_bead-a/{:04d}.png'.format(j), dpi = 100)\n"
   ]
  }
 ],
 "metadata": {
  "kernelspec": {
   "display_name": "Python 3",
   "language": "python",
   "name": "python3"
  },
  "language_info": {
   "codemirror_mode": {
    "name": "ipython",
    "version": 3
   },
   "file_extension": ".py",
   "mimetype": "text/x-python",
   "name": "python",
   "nbconvert_exporter": "python",
   "pygments_lexer": "ipython3",
   "version": "3.5.2"
  }
 },
 "nbformat": 4,
 "nbformat_minor": 2
}
